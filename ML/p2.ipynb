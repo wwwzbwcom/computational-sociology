{
 "cells": [
  {
   "cell_type": "markdown",
   "metadata": {},
   "source": [
    "# 利用 Python 解决回归问题\n",
    "\n",
    "## 导入数据"
   ]
  },
  {
   "cell_type": "code",
   "execution_count": 2,
   "metadata": {},
   "outputs": [
    {
     "data": {
      "text/plain": [
       "0    2.438777\n",
       "1    0.629828\n",
       "2   -3.428959\n",
       "3   -1.320286\n",
       "4    1.773177\n",
       "Name: y, dtype: float32"
      ]
     },
     "metadata": {},
     "output_type": "display_data"
    },
    {
     "data": {
      "text/html": [
       "<div>\n",
       "<style scoped>\n",
       "    .dataframe tbody tr th:only-of-type {\n",
       "        vertical-align: middle;\n",
       "    }\n",
       "\n",
       "    .dataframe tbody tr th {\n",
       "        vertical-align: top;\n",
       "    }\n",
       "\n",
       "    .dataframe thead th {\n",
       "        text-align: right;\n",
       "    }\n",
       "</style>\n",
       "<table border=\"1\" class=\"dataframe\">\n",
       "  <thead>\n",
       "    <tr style=\"text-align: right;\">\n",
       "      <th></th>\n",
       "      <th>x1</th>\n",
       "      <th>x2</th>\n",
       "      <th>x3</th>\n",
       "      <th>x4</th>\n",
       "      <th>x5</th>\n",
       "      <th>x6</th>\n",
       "      <th>x7</th>\n",
       "      <th>x8</th>\n",
       "      <th>x9</th>\n",
       "      <th>x10</th>\n",
       "      <th>x11</th>\n",
       "    </tr>\n",
       "  </thead>\n",
       "  <tbody>\n",
       "    <tr>\n",
       "      <th>0</th>\n",
       "      <td>-9.163060</td>\n",
       "      <td>-1.588530</td>\n",
       "      <td>-0.802902</td>\n",
       "      <td>-3.990557</td>\n",
       "      <td>-0.802902</td>\n",
       "      <td>1.584558</td>\n",
       "      <td>-3.111471</td>\n",
       "      <td>-0.451257</td>\n",
       "      <td>2.154801</td>\n",
       "      <td>-5.849712</td>\n",
       "      <td>-1.384668</td>\n",
       "    </tr>\n",
       "    <tr>\n",
       "      <th>1</th>\n",
       "      <td>-1.438437</td>\n",
       "      <td>1.177610</td>\n",
       "      <td>-0.196004</td>\n",
       "      <td>0.446565</td>\n",
       "      <td>-0.196004</td>\n",
       "      <td>-1.218185</td>\n",
       "      <td>0.690861</td>\n",
       "      <td>-2.143279</td>\n",
       "      <td>0.121307</td>\n",
       "      <td>-0.341499</td>\n",
       "      <td>-0.467438</td>\n",
       "    </tr>\n",
       "    <tr>\n",
       "      <th>2</th>\n",
       "      <td>11.462125</td>\n",
       "      <td>2.887286</td>\n",
       "      <td>1.358113</td>\n",
       "      <td>3.876879</td>\n",
       "      <td>1.358113</td>\n",
       "      <td>-0.815247</td>\n",
       "      <td>2.638416</td>\n",
       "      <td>0.158565</td>\n",
       "      <td>-1.563668</td>\n",
       "      <td>4.190841</td>\n",
       "      <td>-0.548659</td>\n",
       "    </tr>\n",
       "    <tr>\n",
       "      <th>3</th>\n",
       "      <td>5.854400</td>\n",
       "      <td>-0.552525</td>\n",
       "      <td>1.233984</td>\n",
       "      <td>1.719736</td>\n",
       "      <td>1.233984</td>\n",
       "      <td>2.150350</td>\n",
       "      <td>0.896650</td>\n",
       "      <td>-0.827780</td>\n",
       "      <td>4.008009</td>\n",
       "      <td>1.085393</td>\n",
       "      <td>1.486160</td>\n",
       "    </tr>\n",
       "    <tr>\n",
       "      <th>4</th>\n",
       "      <td>-7.031788</td>\n",
       "      <td>-1.952549</td>\n",
       "      <td>-0.887858</td>\n",
       "      <td>-2.296057</td>\n",
       "      <td>-0.887858</td>\n",
       "      <td>-0.705950</td>\n",
       "      <td>0.054110</td>\n",
       "      <td>-0.355626</td>\n",
       "      <td>-2.779588</td>\n",
       "      <td>-1.299902</td>\n",
       "      <td>-0.291565</td>\n",
       "    </tr>\n",
       "  </tbody>\n",
       "</table>\n",
       "</div>"
      ],
      "text/plain": [
       "          x1        x2        x3        x4        x5        x6        x7  \\\n",
       "0  -9.163060 -1.588530 -0.802902 -3.990557 -0.802902  1.584558 -3.111471   \n",
       "1  -1.438437  1.177610 -0.196004  0.446565 -0.196004 -1.218185  0.690861   \n",
       "2  11.462125  2.887286  1.358113  3.876879  1.358113 -0.815247  2.638416   \n",
       "3   5.854400 -0.552525  1.233984  1.719736  1.233984  2.150350  0.896650   \n",
       "4  -7.031788 -1.952549 -0.887858 -2.296057 -0.887858 -0.705950  0.054110   \n",
       "\n",
       "         x8        x9       x10       x11  \n",
       "0 -0.451257  2.154801 -5.849712 -1.384668  \n",
       "1 -2.143279  0.121307 -0.341499 -0.467438  \n",
       "2  0.158565 -1.563668  4.190841 -0.548659  \n",
       "3 -0.827780  4.008009  1.085393  1.486160  \n",
       "4 -0.355626 -2.779588 -1.299902 -0.291565  "
      ]
     },
     "metadata": {},
     "output_type": "display_data"
    }
   ],
   "source": [
    "import pandas as pd\n",
    "import math\n",
    "from IPython import display\n",
    "\n",
    "df = pd.read_stata('game2_data.dta')\n",
    "\n",
    "y = df['y']\n",
    "x = df.drop(columns='y')\n",
    "\n",
    "display.display(y.head())\n",
    "display.display(x.head())"
   ]
  },
  {
   "cell_type": "markdown",
   "metadata": {},
   "source": [
    "## Sklearn\n",
    "\n",
    "### Lasso\n",
    "- LassoCV\n",
    "- Ridge"
   ]
  },
  {
   "cell_type": "code",
   "execution_count": 3,
   "metadata": {
    "scrolled": true
   },
   "outputs": [
    {
     "name": "stdout",
     "output_type": "stream",
     "text": [
      "Lasso====================\n",
      "0.9946700501294943\n",
      "[-0.30531312  0.          0.          0.          0.          0.\n",
      " -0.         -0.00411733  0.04722745  0.01897528  0.00989574]\n",
      "rmse:0.1847789031\n",
      "LassoCV====================\n",
      "0.9946772347480978\n",
      "[-0.30537354  0.          0.          0.          0.          0.\n",
      " -0.         -0.0046635   0.04744116  0.01919822  0.00910188]\n",
      "choose alpha=0.0900000000\n",
      "rmse:0.1845967626\n",
      "Ridge====================\n",
      "0.9999999999963733\n",
      "[-2.99999170e-01  3.32191089e-07 -7.33043954e-06  3.83274008e-07\n",
      " -7.33044120e-06 -9.99871236e-02 -9.99983999e-02 -9.99997006e-02\n",
      "  9.99966680e-02  1.00000064e-01  9.99989065e-02]\n",
      "rmse:0.0000047801\n"
     ]
    },
    {
     "data": {
      "text/html": [
       "<div>\n",
       "<style scoped>\n",
       "    .dataframe tbody tr th:only-of-type {\n",
       "        vertical-align: middle;\n",
       "    }\n",
       "\n",
       "    .dataframe tbody tr th {\n",
       "        vertical-align: top;\n",
       "    }\n",
       "\n",
       "    .dataframe thead th {\n",
       "        text-align: right;\n",
       "    }\n",
       "</style>\n",
       "<table border=\"1\" class=\"dataframe\">\n",
       "  <thead>\n",
       "    <tr style=\"text-align: right;\">\n",
       "      <th></th>\n",
       "      <th>Method</th>\n",
       "      <th>R^2</th>\n",
       "      <th>RMSE</th>\n",
       "      <th>Lambda</th>\n",
       "      <th>Coefficient</th>\n",
       "    </tr>\n",
       "  </thead>\n",
       "  <tbody>\n",
       "    <tr>\n",
       "      <th>0</th>\n",
       "      <td>Lasso</td>\n",
       "      <td>0.994581</td>\n",
       "      <td>0.184779</td>\n",
       "      <td>0.1</td>\n",
       "      <td>[1, 8, 9, 10, 11]</td>\n",
       "    </tr>\n",
       "    <tr>\n",
       "      <th>1</th>\n",
       "      <td>LassoCV</td>\n",
       "      <td>0.994592</td>\n",
       "      <td>0.184597</td>\n",
       "      <td>0.09</td>\n",
       "      <td>[1, 8, 9, 10, 11]</td>\n",
       "    </tr>\n",
       "    <tr>\n",
       "      <th>2</th>\n",
       "      <td>Ridge</td>\n",
       "      <td>1.000000</td>\n",
       "      <td>0.000005</td>\n",
       "      <td></td>\n",
       "      <td>[1, 2, 3, 4, 5, 6, 7, 8, 9, 10, 11]</td>\n",
       "    </tr>\n",
       "  </tbody>\n",
       "</table>\n",
       "</div>"
      ],
      "text/plain": [
       "    Method       R^2      RMSE Lambda                          Coefficient\n",
       "0    Lasso  0.994581  0.184779    0.1                    [1, 8, 9, 10, 11]\n",
       "1  LassoCV  0.994592  0.184597   0.09                    [1, 8, 9, 10, 11]\n",
       "2    Ridge  1.000000  0.000005         [1, 2, 3, 4, 5, 6, 7, 8, 9, 10, 11]"
      ]
     },
     "execution_count": 3,
     "metadata": {},
     "output_type": "execute_result"
    }
   ],
   "source": [
    "import sklearn.linear_model as lm\n",
    "from sklearn.metrics import mean_squared_error\n",
    "from sklearn.model_selection import train_test_split\n",
    "\n",
    "def get_vars(coef):\n",
    "    return [i + 1 for i,x in enumerate(coef.tolist()) if abs(x) > 0]\n",
    "\n",
    "x_train, x_test, y_train, y_test = train_test_split(x, y, test_size=0.1)\n",
    "\n",
    "data = []\n",
    "\n",
    "print(\"Lasso====================\")\n",
    "\n",
    "clf = lm.Lasso(alpha=0.09, copy_X=True, fit_intercept=True, max_iter=1000,normalize=False, positive=False, precompute=False, random_state=None,selection='cyclic', tol=0.0001, warm_start=False)\n",
    "clf.fit(x_train, y_train)\n",
    "print(clf.score(x, y))\n",
    "print(clf.coef_)\n",
    "\n",
    "y_predict = clf.predict(x_test)\n",
    "rmse = mean_squared_error(y_test, y_predict) ** 0.5\n",
    "print(\"rmse:%.10f\" % rmse)\n",
    "\n",
    "data.append(['Lasso', clf.score(x_test,y_test), rmse, 0.1, get_vars(clf.coef_)])\n",
    "\n",
    "print(\"LassoCV====================\")\n",
    "clf = lm.LassoCV(alphas=[0.5, 0.2, 0.1, 0.09], cv=5)\n",
    "clf.fit(x, y)\n",
    "print(clf.score(x, y))\n",
    "print(clf.coef_)\n",
    "print(\"choose alpha=%.10f\" % clf.alpha_)\n",
    "y_predict = clf.predict(x_test)\n",
    "rmse = mean_squared_error(y_test, y_predict) ** 0.5\n",
    "print(\"rmse:%.10f\" % rmse)\n",
    "\n",
    "data.append(['LassoCV', clf.score(x_test,y_test), rmse, clf.alpha_, get_vars(clf.coef_)])\n",
    "\n",
    "print(\"Ridge====================\")\n",
    "clf = lm.Ridge(alpha=0.1)\n",
    "clf.fit(x_train, y_train)\n",
    "print(clf.score(x_test, y_test))\n",
    "print(clf.coef_)\n",
    "y_predict = clf.predict(x_test)\n",
    "rmse = mean_squared_error(y_test, y_predict) ** 0.5\n",
    "print(\"rmse:%.10f\" % rmse)\n",
    "\n",
    "data.append(['Ridge', clf.score(x_test,y_test), rmse, \"\", get_vars(clf.coef_)])\n",
    "\n",
    "pd.DataFrame(data, columns=['Method', 'R^2', 'RMSE', 'Lambda', 'Coefficient'])"
   ]
  },
  {
   "cell_type": "markdown",
   "metadata": {},
   "source": [
    "## NetworkX 绘制变量间相关性图片"
   ]
  },
  {
   "cell_type": "code",
   "execution_count": 6,
   "metadata": {},
   "outputs": [
    {
     "name": "stderr",
     "output_type": "stream",
     "text": [
      "/usr/local/lib/python3.6/dist-packages/networkx/drawing/nx_pylab.py:579: MatplotlibDeprecationWarning: \n",
      "The iterable function was deprecated in Matplotlib 3.1 and will be removed in 3.3. Use np.iterable instead.\n",
      "  if not cb.iterable(width):\n",
      "/usr/local/lib/python3.6/dist-packages/networkx/drawing/nx_pylab.py:676: MatplotlibDeprecationWarning: \n",
      "The iterable function was deprecated in Matplotlib 3.1 and will be removed in 3.3. Use np.iterable instead.\n",
      "  if cb.iterable(node_size):  # many node sizes\n"
     ]
    },
    {
     "data": {
      "image/png": "[encoded data removed]",
      "text/plain": [
       "<Figure size 640x640 with 1 Axes>"
      ]
     },
     "metadata": {},
     "output_type": "display_data"
    }
   ],
   "source": [
    "from matplotlib import pyplot as plt\n",
    "import matplotlib as mpl\n",
    "\n",
    "plt.rcParams['font.family']='sans-serif' \n",
    "plt.rcParams['font.sans-serif']=['SimHei'] #用来正常显示中文标签\n",
    "plt.rcParams['axes.unicode_minus']=False #用来正常显示负号\n",
    "\n",
    "import networkx as nx\n",
    "dpi = 200\n",
    "size = 640\n",
    "fig = plt.figure(figsize=(size/dpi, size/dpi), dpi=dpi)\n",
    "\n",
    "\n",
    "G = nx.DiGraph()\n",
    "\n",
    "for i in range(1, 12):\n",
    "    G.add_node('x' + str(i))\n",
    "\n",
    "for i in range(1, 12):\n",
    "    for j in range(1, 12):\n",
    "        if(i != j):\n",
    "            clf = lm.LinearRegression()\n",
    "            xt = x['x' + str(i)].to_numpy().reshape(-1, 1)\n",
    "            yt = x['x' + str(j)]\n",
    "            clf.fit(xt, yt)\n",
    "            score = clf.score(xt, yt)\n",
    "            if(score > 0.8):\n",
    "                G.add_edge('x' + str(i), 'x' + str(j))\n",
    "\n",
    "pos = nx.spring_layout(G,k=1.5,scale=3)\n",
    "nx.draw(G, pos, font_color='w', with_labels=True)\n",
    "plt.show()"
   ]
  },
  {
   "cell_type": "markdown",
   "metadata": {},
   "source": [
    "## 仅利用 `x1` 进行线性回归"
   ]
  },
  {
   "cell_type": "code",
   "execution_count": 5,
   "metadata": {
    "scrolled": true
   },
   "outputs": [
    {
     "name": "stdout",
     "output_type": "stream",
     "text": [
      "0.9907975868718224\n",
      "[-0.2978162]\n",
      "rmse:0.2446448955\n"
     ]
    }
   ],
   "source": [
    "clf = lm.LinearRegression()\n",
    "xt = x_train[['x1']]\n",
    "yt = y_train\n",
    "\n",
    "\n",
    "clf.fit(x[['x1']],  y)\n",
    "score = clf.score(xt, yt)\n",
    "print(score)\n",
    "print(clf.coef_)\n",
    "y_predict = clf.predict(x_test[['x1']])\n",
    "rmse = mean_squared_error(y_test, y_predict) ** 0.5\n",
    "print(\"rmse:%.10f\" % rmse)"
   ]
  }
 ],
 "metadata": {
  "kernelspec": {
   "display_name": "Python 3",
   "language": "python",
   "name": "python3"
  },
  "language_info": {
   "codemirror_mode": {
    "name": "ipython",
    "version": 3
   },
   "file_extension": ".py",
   "mimetype": "text/x-python",
   "name": "python",
   "nbconvert_exporter": "python",
   "pygments_lexer": "ipython3",
   "version": "3.6.7"
  }
 },
 "nbformat": 4,
 "nbformat_minor": 4
}
